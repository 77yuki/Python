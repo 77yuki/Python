{
 "cells": [
  {
   "cell_type": "code",
   "execution_count": 23,
   "id": "0aa387b5",
   "metadata": {},
   "outputs": [],
   "source": [
    "import numpy as np\n",
    "import matplotlib.pyplot as plt\n",
    "from scipy.stats import norm\n",
    "\n",
    "sigma = 0.35\n",
    "r = 0.07\n",
    "T = 1.5\n",
    "S0 = 100\n",
    "S_init = 100\n",
    "mu = 0.09\n",
    "N = 80000\n",
    "\n",
    "K = [101, 115, 130]\n",
    "    \n",
    "def blsprice(Price, Strike, Rate, Time, Volatility):\n",
    "    sigma_sqrtT = Volatility * np.sqrt (Time)\n",
    "\n",
    "    d1 = 1 / sigma_sqrtT * (np.log(Price / Strike) + (Rate + Volatility**2 / 2) * Time)\n",
    "    d2 = d1 - sigma_sqrtT\n",
    "\n",
    "    phi1 = norm.cdf(d1)\n",
    "    phi2 = norm.cdf(d2)\n",
    "    disc = np.exp (-Rate * Time)\n",
    "    F    = Price * np.exp ((Rate) * Time)\n",
    "\n",
    "    Call = disc * (F * phi1 - Strike * phi2)\n",
    "    Put  = disc * (Strike * (1 - phi2) + F * (phi1 - 1))\n",
    "    return Call, Put\n",
    "\n"
   ]
  },
  {
   "cell_type": "code",
   "execution_count": 25,
   "id": "6fae52ac",
   "metadata": {
    "scrolled": false
   },
   "outputs": [
    {
     "data": {
      "image/png": "[encoded data removed]",
      "text/plain": [
       "<Figure size 640x480 with 1 Axes>"
      ]
     },
     "metadata": {},
     "output_type": "display_data"
    },
    {
     "name": "stdout",
     "output_type": "stream",
     "text": [
      "K \t Mean \t \t Standard Dev \t VaR \t \t cVaR\n",
      "101 \t0.09973 \t0.17909 \t-0.28935 \t-0.40593\n",
      "115 \t0.09516 \t0.22814 \t-0.36821 \t-0.49331\n",
      "130 \t0.08712 \t0.27701 \t-0.44949 \t-0.59021\n"
     ]
    }
   ],
   "source": [
    "mean = []\n",
    "sd = []\n",
    "var = []\n",
    "cvar = []\n",
    "\n",
    "for i in K:\n",
    "    V = blsprice(S0, i, r, T, sigma)[0]\n",
    "    S = S0 * np.exp((mu - (sigma**2)/2)*T + sigma*np.random.normal(0, 1, N)*np.sqrt(T))\n",
    "    Pi = S - np.maximum(S - i, 0) + V*np.exp(r*T)\n",
    "    R = np.log(Pi/100)\n",
    "\n",
    "    mean.append(np.mean(R))\n",
    "    sd.append(np.std(R))\n",
    "    \n",
    "    sorted_R = np.sort(R)\n",
    "    index_5th = int(len(sorted_R) * 0.05)\n",
    "    var95 = sorted_R[index_5th]\n",
    "    cvar95 = np.mean(sorted_R[:index_5th])\n",
    "    \n",
    "    var.append(var95)\n",
    "    cvar.append(cvar95)\n",
    "    if i == 130:\n",
    "        plt.hist(R, bins = 80, density = True)\n",
    "        plt.title(\"Covered Call with K = 130\")\n",
    "        plt.xlabel(\"R\")\n",
    "        plt.ylabel(\"Density\")\n",
    "        plt.show()\n",
    "        \n",
    "\n",
    "    \n",
    "print(\"K \\t Mean \\t \\t Standard Dev \\t VaR \\t \\t cVaR\")\n",
    "for i in np.arange(len(K)):\n",
    "    print(\"%d \\t%0.5f \\t%0.5f \\t%0.5f \\t%0.5f\" % (K[i], mean[i], sd[i], var[i], cvar[i]))    \n",
    "\n"
   ]
  },
  {
   "cell_type": "markdown",
   "id": "283e35b6",
   "metadata": {},
   "source": [
    "From the table, we find that as K increases, mean decreases and standard deviation increases. Also, the VaR and cVaR decreases as K increases and the absolute values of VaR and cVaR increases. \n",
    "By observing the plot, we find that there is an obvious peak of positive return and it is greater than 0.25. Also, it is possible to have large losses because there is a right tail in the plot."
   ]
  },
  {
   "cell_type": "code",
   "execution_count": null,
   "id": "f75e40c5",
   "metadata": {},
   "outputs": [],
   "source": []
  }
 ],
 "metadata": {
  "kernelspec": {
   "display_name": "Python 3 (ipykernel)",
   "language": "python",
   "name": "python3"
  },
  "language_info": {
   "codemirror_mode": {
    "name": "ipython",
    "version": 3
   },
   "file_extension": ".py",
   "mimetype": "text/x-python",
   "name": "python",
   "nbconvert_exporter": "python",
   "pygments_lexer": "ipython3",
   "version": "3.11.5"
  }
 },
 "nbformat": 4,
 "nbformat_minor": 5
}
